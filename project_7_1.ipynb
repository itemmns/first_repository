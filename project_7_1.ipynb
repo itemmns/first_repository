{
  "nbformat": 4,
  "nbformat_minor": 0,
  "metadata": {
    "colab": {
      "provenance": [],
      "authorship_tag": "ABX9TyNJH+FiysGDrxEKgXWhRr4/",
      "include_colab_link": true
    },
    "kernelspec": {
      "name": "python3",
      "display_name": "Python 3"
    },
    "language_info": {
      "name": "python"
    }
  },
  "cells": [
    {
      "cell_type": "markdown",
      "metadata": {
        "id": "view-in-github",
        "colab_type": "text"
      },
      "source": [
        "<a href=\"https://colab.research.google.com/github/itemmns/first_repository/blob/main/project_7_1.ipynb\" target=\"_parent\"><img src=\"https://colab.research.google.com/assets/colab-badge.svg\" alt=\"Open In Colab\"/></a>"
      ]
    },
    {
      "cell_type": "code",
      "source": [
        "from typing import List, Any\n",
        "import random\n",
        "\n",
        "def check_input(input_data: List[Any]) -> bool:\n",
        "    if not isinstance(input_data, list):\n",
        "        return False\n",
        "    if len(input_data) != 2:\n",
        "        return False\n",
        "    A = input_data[0]\n",
        "    B = input_data[1]\n",
        "    if not (isinstance(A, int) and isinstance(B, int)):\n",
        "        return False\n",
        "    if (A < B) and (A > 0):\n",
        "        return True\n",
        "    return False\n",
        "\n",
        "def get_ladder(valid_list: List[int]) -> List[str]:\n",
        "    A = valid_list[0]\n",
        "    B = valid_list[1]\n",
        "    N = random.randint(A, B)\n",
        "    sign = '*'\n",
        "    result = []\n",
        "\n",
        "    while B >= N:\n",
        "        tmp = sign * B\n",
        "        B -= 1\n",
        "        result.append(tmp)\n",
        "\n",
        "    while A <= N:\n",
        "        tmp = sign * A\n",
        "        A += 1\n",
        "        result.append(tmp)\n",
        "\n",
        "    return result\n",
        "\n",
        "def main(input_list: List[List[int]]) -> None:\n",
        "    valid_list = []\n",
        "    for val in input_list:\n",
        "        if check_input(val):\n",
        "            valid_list = val\n",
        "            break\n",
        "    result = get_ladder(valid_list)\n",
        "\n",
        "    for val in result:\n",
        "        print(val)\n",
        "\n",
        "\n",
        ""
      ],
      "metadata": {
        "id": "oAs0wjNNPJle"
      },
      "execution_count": 32,
      "outputs": []
    },
    {
      "cell_type": "code",
      "source": [
        "test_data = [[0, 4, 8], ['a', -0], [1, 5]]\n",
        "main(input_list=test_data)"
      ],
      "metadata": {
        "colab": {
          "base_uri": "https://localhost:8080/"
        },
        "id": "36Ol9-GCkOlY",
        "outputId": "1abf078a-9a7e-46d5-84a5-f837bf05e5d6"
      },
      "execution_count": 33,
      "outputs": [
        {
          "output_type": "stream",
          "name": "stdout",
          "text": [
            "*****\n",
            "****\n",
            "***\n",
            "**\n",
            "*\n",
            "*\n"
          ]
        }
      ]
    },
    {
      "cell_type": "code",
      "execution_count": 27,
      "metadata": {
        "colab": {
          "base_uri": "https://localhost:8080/"
        },
        "id": "-IMI37KARv0d",
        "outputId": "2ee6f045-5542-433a-e504-4064c1e42767"
      },
      "outputs": [
        {
          "output_type": "stream",
          "name": "stdout",
          "text": [
            "['******', '*****', '****', '***', '**', '*', '*']\n"
          ]
        }
      ],
      "source": [
        "print(get_ladder([1, 6]))"
      ]
    }
  ]
}